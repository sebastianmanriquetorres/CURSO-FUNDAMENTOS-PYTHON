{
 "cells": [
  {
   "cell_type": "markdown",
   "metadata": {},
   "source": [
    "1. Gestión de Inventario de Productos\n",
    "Descripción:\n",
    "Se debe desarrollar un sistema que administre un inventario compuesto por productos y sus cantidades. El programa presentará el listado inicial y resaltará aquellos artículos cuyo stock esté por debajo de un umbral definido. Luego, permitirá actualizar la cantidad de un producto específico, mostrando el inventario antes y después de la modificación."
   ]
  },
  {
   "cell_type": "markdown",
   "metadata": {},
   "source": [
    "2. Búsqueda de Palabras en un Texto\n",
    "Descripción:\n",
    "Crea una aplicación que solicite al usuario un párrafo y, a continuación, le permita buscar una palabra específica. El sistema debe contar cuántas veces aparece dicha palabra en el texto, mostrar las posiciones donde se encuentra (sin distinguir mayúsculas de minúsculas) y comunicar el resultado al usuario.\n",
    "\n"
   ]
  },
  {
   "cell_type": "markdown",
   "metadata": {},
   "source": [
    "3. Conversión y Limpieza de Texto\n",
    "Descripción:\n",
    "Diseña una solución que pida al usuario una frase, la divida en palabras y elimine cualquier carácter no alfabético de cada una. Una vez procesada la información, la estructura resultante se transformará en una forma inmutable, y se presentará el contenido final al usuario de manera ordenada."
   ]
  },
  {
   "cell_type": "markdown",
   "metadata": {},
   "source": [
    "4. Registro y Consulta de Calificaciones de Exámenes\n",
    "Descripción:\n",
    "Implementa un sistema que gestione un registro de estudiantes y sus calificaciones. El programa debe permitir agregar nuevos registros, listar todos los existentes y consultar la calificación de un estudiante introduciendo su nombre. Se espera que la información se actualice y se presente de forma clara en cada paso."
   ]
  },
  {
   "cell_type": "markdown",
   "metadata": {},
   "source": [
    "5. Calculadora de Estadísticas de Números\n",
    "Descripción:\n",
    "Desarrolla una aplicación que trabaje con una colección de números predefinidos. El sistema debe ofrecer al usuario un menú interactivo con opciones para calcular el promedio, identificar el valor máximo y mínimo, o eliminar un número. Tras cada operación, se mostrará tanto el resultado como el estado actual de la colección."
   ]
  }
 ],
 "metadata": {
  "kernelspec": {
   "display_name": "Python 3",
   "language": "python",
   "name": "python3"
  },
  "language_info": {
   "codemirror_mode": {
    "name": "ipython",
    "version": 3
   },
   "file_extension": ".py",
   "mimetype": "text/x-python",
   "name": "python",
   "nbconvert_exporter": "python",
   "pygments_lexer": "ipython3",
   "version": "3.13.0"
  }
 },
 "nbformat": 4,
 "nbformat_minor": 2
}
