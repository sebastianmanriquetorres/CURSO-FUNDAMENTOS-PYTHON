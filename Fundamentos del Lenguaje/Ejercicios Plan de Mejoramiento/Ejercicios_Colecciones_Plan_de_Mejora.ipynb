{
 "cells": [
  {
   "cell_type": "markdown",
   "metadata": {},
   "source": [
    "# EJERCICIOS  RECUPERACIÓN"
   ]
  },
  {
   "cell_type": "markdown",
   "metadata": {},
   "source": [
    "Ejercicio 1: Registro de Calificaciones y Estadísticas\n",
    "Descripción:\n",
    "Se requiere desarrollar un programa que administre el desempeño académico de un grupo de estudiantes. Utiliza una colección para almacenar los nombres de los alumnos y sus calificaciones (cada alumno puede tener varias notas). La solución deberá calcular el promedio de cada estudiante, determinar si aprueba (por ejemplo, con un promedio mayor o igual a cierto valor) y mostrar un resumen detallado con el nombre, el promedio y el estado de cada uno."
   ]
  },
  {
   "cell_type": "markdown",
   "metadata": {},
   "source": [
    "```bash\n",
    "Registro de calificaciones:\n",
    "- Ana: [70, 85, 90] -> Promedio: 81.67 -> Aprobado\n",
    "- Luis: [55, 60, 58] -> Promedio: 57.67 -> Reprobado\n",
    "- Carlos: [80, 78, 85] -> Promedio: 81.00 -> Aprobado\n",
    "```"
   ]
  },
  {
   "cell_type": "markdown",
   "metadata": {},
   "source": [
    "Ejercicio 2: Análisis de Inventario con Diccionarios\n",
    "Descripción:\n",
    "Crea un sistema de inventario que administre productos y sus cantidades utilizando una colección que relacione cada producto con su stock. La solución debe permitir actualizar la cantidad de un producto, eliminar aquellos que se encuentren agotados (por ejemplo, cantidad igual a cero) y mostrar el inventario ordenado alfabéticamente, reflejando los cambios realizados."
   ]
  },
  {
   "cell_type": "markdown",
   "metadata": {},
   "source": [
    "```bash\n",
    "Inventario inicial:\n",
    "- Manzanas: 50\n",
    "- Naranjas: 20\n",
    "- Peras: 0\n",
    "- Plátanos: 30\n",
    "\n",
    "Inventario actualizado:\n",
    "- Manzanas: 45\n",
    "- Naranjas: 20\n",
    "- Plátanos: 30\n",
    "\n",
    "```"
   ]
  },
  {
   "cell_type": "markdown",
   "metadata": {},
   "source": [
    "Ejercicio 3: Fusión y Diferencia de Conjuntos de Hobbies\n",
    "Descripción:\n",
    "Se dispone de dos colecciones que contienen los hobbies de dos grupos de personas. El desafío consiste en determinar qué actividades comparten ambos grupos, identificar los hobbies exclusivos de cada uno y crear una colección que unifique todos los hobbies sin repeticiones. Esta tarea ayudará a practicar operaciones de unión, intersección y diferencia."
   ]
  },
  {
   "cell_type": "markdown",
   "metadata": {},
   "source": [
    "```bash\n",
    "Hobbies del Grupo A: {'leer', 'correr', 'pintar', 'viajar'}\n",
    "Hobbies del Grupo B: {'correr', 'cocinar', 'viajar', 'bailar'}\n",
    "\n",
    "Hobbies en común: {'correr', 'viajar'}\n",
    "Hobbies exclusivos del Grupo A: {'leer', 'pintar'}\n",
    "Hobbies exclusivos del Grupo B: {'cocinar', 'bailar'}\n",
    "Todos los hobbies: {'leer', 'correr', 'pintar', 'viajar', 'cocinar', 'bailar'}\n",
    "```"
   ]
  },
  {
   "cell_type": "markdown",
   "metadata": {},
   "source": [
    "Ejercicio 4: Manipulación de Tuplas de Datos de Empleados\n",
    "Descripción:\n",
    "Diseña un programa que maneje la información de un empleado representada en una colección inmutable (por ejemplo, una tupla) que contenga datos como el nombre, la edad, el departamento y el salario. La tarea consiste en transformar esta colección en una estructura modificable, aplicar un aumento salarial (por ejemplo, del 10%) y luego volver a convertirla en una colección inmutable para mostrar los datos actualizados."
   ]
  },
  {
   "cell_type": "markdown",
   "metadata": {},
   "source": [
    "```bash\n",
    "Datos iniciales del empleado: ('Carlos', 30, 'Ventas', 3000)\n",
    "Datos actualizados del empleado: ('Carlos', 30, 'Ventas', 3300)\n",
    "```"
   ]
  },
  {
   "cell_type": "markdown",
   "metadata": {},
   "source": [
    "Ejercicio 5: Filtrado de Palabras en una Frase\n",
    "Descripción:\n",
    "El objetivo es desarrollar una solución que solicite al usuario una oración, la divida en palabras y luego filtre aquellas que tengan una longitud mayor a 4 caracteres. La colección resultante se debe presentar de manera ordenada, demostrando la capacidad de transformar, filtrar y visualizar los elementos relevantes del texto."
   ]
  },
  {
   "cell_type": "markdown",
   "metadata": {},
   "source": [
    "```bash\n",
    "Frase ingresada: \"La programación en Python es muy divertida\"\n",
    "Palabras con más de 4 caracteres: ['programación', 'Python', 'divertida']\n",
    "```"
   ]
  },
  {
   "cell_type": "markdown",
   "metadata": {},
   "source": []
  }
 ],
 "metadata": {
  "kernelspec": {
   "display_name": "Python 3",
   "language": "python",
   "name": "python3"
  },
  "language_info": {
   "name": "python",
   "version": "3.13.0"
  }
 },
 "nbformat": 4,
 "nbformat_minor": 2
}
