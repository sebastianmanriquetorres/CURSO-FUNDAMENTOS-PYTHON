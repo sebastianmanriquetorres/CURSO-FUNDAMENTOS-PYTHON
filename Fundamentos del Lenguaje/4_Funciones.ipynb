{
 "cells": [
  {
   "cell_type": "markdown",
   "metadata": {},
   "source": [
    "# Introducción"
   ]
  },
  {
   "cell_type": "markdown",
   "metadata": {},
   "source": [
    "En programación algunos términos se pueden confundir y es el caso de las **funciones** y los **métodos**\n",
    "\n",
    "**¿Reconoces la diferencia?**"
   ]
  },
  {
   "cell_type": "markdown",
   "metadata": {},
   "source": [
    "En Python contamos con 4 tipos de funciones:\n",
    "\n",
    "Funciones integradas\n",
    "Funciones en módulos preinstalados\n",
    "Funciones definidas por el usuario\n",
    "Funciones Lambda"
   ]
  },
  {
   "cell_type": "markdown",
   "metadata": {},
   "source": [
    "# Funciones integradas\n",
    "  Estas funciones están a disposición del programador y ya hemos utilizado algunas de ellas.\n",
    "\n",
    "Consulta aquí la\n",
    "[Lista de funciones integradas](https://docs.python.org/3/library/functions.html)\n",
    "\n",
    "Utilizando funciones integradas, termina los siguientes programas:"
   ]
  },
  {
   "cell_type": "markdown",
   "metadata": {},
   "source": [
    "1. Dada una expresión aritmética en una variable tipo cadena, determinar el resultado de la misma"
   ]
  },
  {
   "cell_type": "code",
   "execution_count": 1,
   "metadata": {},
   "outputs": [
    {
     "name": "stdout",
     "output_type": "stream",
     "text": [
      "10.066666666666666\n"
     ]
    }
   ],
   "source": [
    "expresion = input(\"INgrese la operación a realizar: \")\n",
    "print(eval(expresion))"
   ]
  },
  {
   "cell_type": "markdown",
   "metadata": {},
   "source": [
    "2. Dada una lista de números, devolver el menor y el mayor de ellos"
   ]
  },
  {
   "cell_type": "code",
   "execution_count": 3,
   "metadata": {},
   "outputs": [
    {
     "name": "stdout",
     "output_type": "stream",
     "text": [
      "EL Mayor es 9 \n",
      "EL Menor es: 2\n"
     ]
    }
   ],
   "source": [
    "numeros = [2,5,4,6,9,8]\n",
    "print(f\"EL Mayor es {max(numeros)} \")\n",
    "print(f\"EL Menor es: {min(numeros)}\")"
   ]
  },
  {
   "cell_type": "markdown",
   "metadata": {},
   "source": [
    "3. Dado un número, mostrar su representación en sistema binario, octal y hexadecimal"
   ]
  },
  {
   "cell_type": "code",
   "execution_count": 4,
   "metadata": {},
   "outputs": [
    {
     "name": "stdout",
     "output_type": "stream",
     "text": [
      "EL numero 525 en binario es 0b1000001101 en hexa es 0x20d  y en octal es 0o1015\n"
     ]
    }
   ],
   "source": [
    "num = int(input(\"INgrese el número a convertir: \"))\n",
    "num_bin = bin(num)\n",
    "num_hex = hex(num)\n",
    "num_oct = oct(num)\n",
    "\n",
    "print(f\"EL numero {num} en binario es {num_bin} en hexa es {num_hex}  y en octal es {num_oct}\")\n"
   ]
  },
  {
   "cell_type": "markdown",
   "metadata": {},
   "source": [
    "# Funciones definidas por el usuario\n"
   ]
  },
  {
   "cell_type": "markdown",
   "metadata": {},
   "source": [
    "## Definición e invocación de funciones\n",
    "\n",
    "La sintaxis para definir una función es la siguiente:\n",
    "\n",
    "```\n",
    "def nombre_funcion():\n",
    "    codigo_funcion\n",
    "```\n",
    "para invocar a una función previamente definida basta con escribir su nombre y en caso de tener parámetros enviarlos entre paréntesis.\n",
    "\n",
    "\n",
    "\n",
    "```\n",
    "#invocación de una función\n",
    "nombre_funcion()\n",
    "```\n"
   ]
  },
  {
   "cell_type": "code",
   "execution_count": 5,
   "metadata": {},
   "outputs": [
    {
     "name": "stdout",
     "output_type": "stream",
     "text": [
      "5 x 1 = 5\n",
      "5 x 2 = 10\n",
      "5 x 3 = 15\n",
      "5 x 4 = 20\n",
      "5 x 5 = 25\n",
      "5 x 6 = 30\n",
      "5 x 7 = 35\n",
      "5 x 8 = 40\n",
      "5 x 9 = 45\n",
      "5 x 10 = 50\n"
     ]
    }
   ],
   "source": [
    "def tabla_del_5 ():\n",
    "    for i in range (1, 11):\n",
    "        print(f\"5 x {i} = {5 * i}\")\n",
    "\n",
    "tabla_del_5()"
   ]
  },
  {
   "cell_type": "code",
   "execution_count": 7,
   "metadata": {},
   "outputs": [
    {
     "name": "stdout",
     "output_type": "stream",
     "text": [
      "5 x 1 = 5\n",
      "5 x 2 = 10\n",
      "5 x 3 = 15\n",
      "5 x 4 = 20\n",
      "5 x 5 = 25\n"
     ]
    }
   ],
   "source": [
    "def tabla_del_numero(num, limite=10):\n",
    "    for i in range ( 1, limite+1):\n",
    "        print(f\"{num} x {i} = {num*i}\")\n",
    "\n",
    "tabla_del_numero(5, 5)"
   ]
  },
  {
   "cell_type": "markdown",
   "metadata": {},
   "source": [
    "## Argumentos por nombre y parámetros por defecto\n",
    "\n",
    "Miremos el siguiente código.  ¿Puedes predecir los resultados antes de ejecutarlo?"
   ]
  },
  {
   "cell_type": "code",
   "execution_count": 10,
   "metadata": {},
   "outputs": [
    {
     "name": "stdout",
     "output_type": "stream",
     "text": [
      "4.5\n"
     ]
    }
   ],
   "source": [
    "def dividir(x, y=2):\n",
    "\n",
    "    res = x/y\n",
    "    print(res)\n",
    "\n",
    "dividir(9)"
   ]
  },
  {
   "cell_type": "markdown",
   "metadata": {},
   "source": [
    "*   Los parámetros pueden tener valores por defecto que sólo se tomarán si no se envía un argumento asociado al parámetro.\n",
    "*   Los argumentos son posicionales por defecto.\n",
    "*   Si se envían parámetros por palabra clave, el orden no importa.\n",
    "*   Si se mezclan argumentos por posición y por palabra clave, estos últimos deben ir al final."
   ]
  },
  {
   "cell_type": "code",
   "execution_count": null,
   "metadata": {},
   "outputs": [
    {
     "name": "stdout",
     "output_type": "stream",
     "text": [
      "1 2 3\n"
     ]
    }
   ],
   "source": [
    "def ejemplo(a,b,c):\n",
    "    print(a, b, c)\n",
    "\n",
    "ejemplo(1, c=3, b=2)\n",
    "ejemplo(a=1, 2, 3)"
   ]
  },
  {
   "cell_type": "markdown",
   "metadata": {},
   "source": [
    "## Número de argumentos indeterminados\n",
    "\n",
    "Algunas veces nos pueden llamar a una función con un número variable de argumentos.  En ese caso, debemos preparar a la función para que pueda tomarlos y gestionarlos en su interior."
   ]
  },
  {
   "cell_type": "code",
   "execution_count": 13,
   "metadata": {},
   "outputs": [
    {
     "name": "stdout",
     "output_type": "stream",
     "text": [
      "<class 'tuple'>\n",
      "La suma delos numeros es: 5.5\n"
     ]
    }
   ],
   "source": [
    "def suma(*args):\n",
    "    print(type(args))\n",
    "    return sum(args)/len(args)\n",
    "\n",
    "print(\"La suma delos numeros es:\", suma(3,5,7,9,10,8,6,4,2,1))"
   ]
  },
  {
   "cell_type": "markdown",
   "metadata": {},
   "source": [
    "Si además de recibir valores variables, queremos recibir los nombres de las variables podemos definir nuestro parámetro como un diccionario variable. Veamos:"
   ]
  },
  {
   "cell_type": "code",
   "execution_count": 14,
   "metadata": {},
   "outputs": [
    {
     "name": "stdout",
     "output_type": "stream",
     "text": [
      "<class 'dict'>\n",
      "nombre = Justin\n",
      "apellido = paz\n",
      "<class 'dict'>\n",
      "nombre = valentina\n",
      "apellido = sierra\n",
      "edad = 20\n"
     ]
    }
   ],
   "source": [
    "def mostrar_info(**kargs):\n",
    "    print(type(kargs))\n",
    "    for k in kargs:\n",
    "        print(f\"{k} = {kargs[k]}\")\n",
    "\n",
    "mostrar_info(nombre=\"Justin\", apellido=\"paz\") \n",
    "mostrar_info(nombre=\"valentina\", apellido=\"sierra\", edad=20)\n",
    "\n"
   ]
  },
  {
   "cell_type": "markdown",
   "metadata": {},
   "source": [
    "## Retorno de valores\n",
    "\n",
    "Como en la mayoría de lenguajes de programación en Python empleamos la palabra reservada **return** para devolver un valor o resultado desde la función hacia la parte del programa donde fue invocada."
   ]
  },
  {
   "cell_type": "markdown",
   "metadata": {},
   "source": []
  },
  {
   "cell_type": "code",
   "execution_count": 15,
   "metadata": {},
   "outputs": [
    {
     "name": "stdout",
     "output_type": "stream",
     "text": [
      "8\n"
     ]
    }
   ],
   "source": [
    "def sumar(x,y):\n",
    "    return x + y\n",
    "\n",
    "print(sumar(5, 3))"
   ]
  },
  {
   "cell_type": "markdown",
   "metadata": {},
   "source": [
    "En Python podemos tener funciones que retornen varios valores.  En ese caso los valores retornados se tratarán como una Tupla.  Miremos:"
   ]
  },
  {
   "cell_type": "code",
   "execution_count": 17,
   "metadata": {},
   "outputs": [
    {
     "name": "stdout",
     "output_type": "stream",
     "text": [
      "(1, 'a', 3.5, [3, 5, 7])\n",
      "<class 'tuple'>\n"
     ]
    }
   ],
   "source": [
    "def mi_funcion():\n",
    "    return 1 , \"a\", 3.5, [3,5,7]\n",
    "\n",
    "x = mi_funcion()\n",
    "\n",
    "print(x)\n",
    "print(type(x))"
   ]
  },
  {
   "cell_type": "markdown",
   "metadata": {},
   "source": [
    "Al ser una tupla, podemos acceder a los valores devueltos a partir de su posición e incluso podemos realizar cualquier operación permitida para las tuplas.."
   ]
  },
  {
   "cell_type": "markdown",
   "metadata": {},
   "source": [
    "## Ámbito de las variables en una función"
   ]
  },
  {
   "cell_type": "markdown",
   "metadata": {},
   "source": [
    "Con relación a las variables, los cambios en las variables al interior de una función no tienen efecto por fuera de ella.  Veamos"
   ]
  },
  {
   "cell_type": "code",
   "execution_count": 21,
   "metadata": {},
   "outputs": [
    {
     "name": "stdout",
     "output_type": "stream",
     "text": [
      "8\n",
      "13\n"
     ]
    }
   ],
   "source": [
    "def cambio_valor():\n",
    "    x = 98\n",
    "\n",
    "x = 8\n",
    "cambio_valor()\n",
    "print(x)\n",
    "x= 13\n",
    "cambio_valor()\n",
    "print(x)"
   ]
  },
  {
   "cell_type": "markdown",
   "metadata": {},
   "source": [
    "Declaración de variables globales\n",
    "\n",
    "\n",
    "\n",
    "```\n",
    "global\n",
    "```"
   ]
  },
  {
   "cell_type": "markdown",
   "metadata": {},
   "source": [
    "Sin embargo, con la declaración de una variable al interior de una función como **global** su valor se conservará por fuera de la función.  Veamos"
   ]
  },
  {
   "cell_type": "code",
   "execution_count": 22,
   "metadata": {},
   "outputs": [
    {
     "name": "stdout",
     "output_type": "stream",
     "text": [
      "10\n"
     ]
    }
   ],
   "source": [
    "def cambio_valor():\n",
    "    global x\n",
    "    x = 10\n",
    "\n",
    "x= 8\n",
    "cambio_valor()\n",
    "print(x)"
   ]
  },
  {
   "cell_type": "markdown",
   "metadata": {},
   "source": [
    "ELEMPLO ALACANCIA"
   ]
  },
  {
   "cell_type": "code",
   "execution_count": null,
   "metadata": {},
   "outputs": [
    {
     "name": "stdout",
     "output_type": "stream",
     "text": [
      "10\n",
      "30\n",
      "35\n"
     ]
    }
   ],
   "source": [
    "total = 0\n",
    "\n",
    "def alcancia(moneda):\n",
    "    global total\n",
    "    total = total + moneda\n",
    "    return total \n",
    "\n",
    "print(alcancia(10))\n",
    "print(alcancia(20))\n",
    "print(alcancia(5))\n"
   ]
  },
  {
   "cell_type": "markdown",
   "metadata": {},
   "source": [
    "## Funciones recursivas\n",
    "\n",
    "Una función recursiva es aquella que en su interior se invoca a sí misma."
   ]
  },
  {
   "cell_type": "code",
   "execution_count": null,
   "metadata": {},
   "outputs": [
    {
     "name": "stdout",
     "output_type": "stream",
     "text": [
      "EL factorial de 4 es 24\n"
     ]
    }
   ],
   "source": [
    "def factorial_recursivo(n):\n",
    "    if  n == 1:\n",
    "        return 1\n",
    "    else:\n",
    "        return n * factorial_recursivo(n-1) #  4 * 4-1= 3 => 4 * 3  \n",
    " \n",
    "num = int(input(\"INgrese el numero:\"))\n",
    "print(f\"EL factorial de {num} es {factorial_recursivo(num)}\") \n"
   ]
  },
  {
   "cell_type": "code",
   "execution_count": 28,
   "metadata": {},
   "outputs": [
    {
     "name": "stdout",
     "output_type": "stream",
     "text": [
      "10\n",
      "9\n",
      "8\n",
      "7\n",
      "6\n",
      "5\n",
      "4\n",
      "3\n",
      "2\n",
      "1\n"
     ]
    }
   ],
   "source": [
    "def atras(num):\n",
    "    print(num)\n",
    "    num -= 1\n",
    "    if num > 0:\n",
    "        atras(num)\n",
    "\n",
    "atras(10)"
   ]
  },
  {
   "cell_type": "markdown",
   "metadata": {},
   "source": [
    "# APROPIACION"
   ]
  },
  {
   "cell_type": "markdown",
   "metadata": {},
   "source": [
    "1. Realiza una función que tome una lista de números enteros y devuelva dos listas ordenadas. La primera con los números pares y la segunda con los números impares."
   ]
  },
  {
   "cell_type": "markdown",
   "metadata": {},
   "source": [
    "2. Realiza una función que reciba una palabra y devuelva un diccionario donde las claves sean las diferentes letras que se encuentran en la palabra y los valores sean el número de veces que se repite cada letra en la palabra\n",
    "\n",
    "#palabra = \"colombia\"\n",
    "#{\"c\":1, \"o\":2, \"l\":1, \"m\":1, \"b\":1, \"i\":1, \"a\":1}"
   ]
  },
  {
   "cell_type": "markdown",
   "metadata": {},
   "source": [
    "3. Realiza una función que reciba un número y devuelva una cadena con los nombres de los números recibidos, separando cada número con un guión medio.  Por ejemplo, si el número recibido es 134, la función devolverá la cadena \"uno - tres - cuatro\""
   ]
  },
  {
   "cell_type": "markdown",
   "metadata": {},
   "source": []
  }
 ],
 "metadata": {
  "kernelspec": {
   "display_name": "Python 3",
   "language": "python",
   "name": "python3"
  },
  "language_info": {
   "codemirror_mode": {
    "name": "ipython",
    "version": 3
   },
   "file_extension": ".py",
   "mimetype": "text/x-python",
   "name": "python",
   "nbconvert_exporter": "python",
   "pygments_lexer": "ipython3",
   "version": "3.13.0"
  }
 },
 "nbformat": 4,
 "nbformat_minor": 2
}
