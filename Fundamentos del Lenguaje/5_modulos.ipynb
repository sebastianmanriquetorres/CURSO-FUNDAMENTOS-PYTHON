{
 "cells": [
  {
   "cell_type": "markdown",
   "metadata": {},
   "source": [
    "# INTRODUCCION A MODULOS"
   ]
  },
  {
   "cell_type": "markdown",
   "metadata": {},
   "source": [
    "Los módulos son archivos python .py que contienen código que puede ser reutilizado en distintos programas.  Facilitan la reutilización de código y la programación modular.  Por su parte, los paquetes son un conjunto de módulos organizados jerárquicamente."
   ]
  },
  {
   "cell_type": "markdown",
   "metadata": {},
   "source": [
    "## CREACION DE MODULOS"
   ]
  },
  {
   "cell_type": "markdown",
   "metadata": {},
   "source": [
    "Crear un módulo es tan sencillo como incorporar un código (variables, funciones, clases) en un archivo y guardarlo con extensión .py"
   ]
  },
  {
   "cell_type": "markdown",
   "metadata": {},
   "source": [
    "Abre el bloc de notas y copia y pega el siguiente código en el:\n",
    "\n",
    "\n",
    "```\n",
    "def saludar():\n",
    "   print (\"Hola, te saludo desde un módulo externo llamado externo.py\")\n",
    "```\n",
    "\n",
    "Ahora guarda el archivo como externo.py\n",
    "\n",
    "¡Ya tienes tu primer módulo creado!"
   ]
  },
  {
   "cell_type": "markdown",
   "metadata": {},
   "source": [
    "## Invocación de módulos\n",
    "\n",
    "Para invocar un módulo debes poner tu módulo en la misma carpeta donde está el programa que lo invocará.  \n",
    "\n",
    "Sintaxis:\n",
    "\n",
    "```\n",
    "import nombre_modulo\n",
    "```\n",
    "Una vez importado el módulo, ya se puede usar cualquier función que en él se encuentre.\n",
    "\n",
    "```\n",
    "import nombre_modulo\n",
    "\n",
    "nombre_modulo.funcion()\n",
    "```\n",
    "También se pueden importar funciones específicas de un módulo con la siguiente sintaxis:\n",
    "\n",
    "```\n",
    "from nombre_modulo import funcion\n",
    "funcion()\n",
    "```\n",
    "De esta forma no es necesario anteponer el nombre del módulo al invocar la función.\n",
    "\n",
    "Para importar todas las funciones de un módulo podemos usar la siguiente sintaxis:\n",
    "\n",
    "```\n",
    "from nombre_modulo import *\n",
    "```\n",
    "\n",
    "Una última opción de importación de módulo es empleando **ALIAS** de módulo.  Esto es darle al módulo otro nombre para el manejo interno en el programa que lo invoca.  Miremos:\n",
    "\n",
    "\n",
    "```\n",
    "import modulo as alias\n",
    "o\n",
    "from nombre_modulo import funcion as alias\n",
    "```"
   ]
  },
  {
   "cell_type": "markdown",
   "metadata": {},
   "source": [
    "## Módulos Estándar\n",
    "\n",
    "Python nos provee una serie de módulos estándar que podemos emplear libremente en nuestros programas sin necesidad de realizar instalaciones adicionales. "
   ]
  },
  {
   "cell_type": "markdown",
   "metadata": {},
   "source": [
    "En el siguiente enlace podemos observar la librería estándar de Python.  Como puedes ver hay una gran cantidad de módulos que podemos utilizar desde nuestros programas.\n",
    "\n",
    "\n",
    "[Librería estándar de Python](https://docs.python.org/3/library/index.html)"
   ]
  },
  {
   "cell_type": "markdown",
   "metadata": {},
   "source": [
    "## Usando algunos módulos estándar"
   ]
  },
  {
   "cell_type": "markdown",
   "metadata": {},
   "source": [
    "### Módulo math\n",
    "\n",
    "El módulo math nos proporciona un conjunto  de funciones para realizar operaciones aritméticas (sin, cos, tan, asin, acos, atan) de conversión entre grados y radianes (radians, degrees).  además de funciones y constantes de propósito general para el trabajo con números."
   ]
  },
  {
   "cell_type": "code",
   "execution_count": null,
   "metadata": {},
   "outputs": [],
   "source": [
    "from math import *\n",
    "import math\n",
    "\n",
    "\n",
    "print (f\"el factorial de 8 es {math.factorial(8)}\")\n",
    "print (f\"el 8.7 aproximado hacia arriba es {ceil(8.7)}\")\n",
    "print (f\"el 8.7 aproximado hacia abajo es {floor(8.7)}\")\n",
    "print (f\"la raiz cuadrada de 9 es {sqrt(9)}\")\n",
    "print (f\"5 elevado a la 3 es {pow(5,3)}\")\n",
    "print (f\"el valor de PI es {pi} y el valor de E es {e}\")"
   ]
  },
  {
   "cell_type": "markdown",
   "metadata": {},
   "source": [
    "### Módulo random\n",
    "\n",
    "El módulo random nos permite generar números aleatorios de diferentes maneras y bajo diferentes contextos"
   ]
  },
  {
   "cell_type": "code",
   "execution_count": 1,
   "metadata": {},
   "outputs": [
    {
     "name": "stdout",
     "output_type": "stream",
     "text": [
      "un aleatorio entre 0 y 1: 0.019356795658755144\n",
      "quiero un # entre 1 y 6: 2\n",
      "de la lista ['lulo', 'manzana', 'mandarina', 4, 5] escojo el 4\n",
      "de la lista ['lulo', 'manzana', 'mandarina', 4, 5] escojo estos 3 [4, 'lulo', 'manzana']\n"
     ]
    }
   ],
   "source": [
    "from random import *\n",
    "print(f\"un aleatorio entre 0 y 1: {random()}\")\n",
    "print(f\"quiero un # entre 1 y 6: {randint(1,6)}\")\n",
    "lista=[\"lulo\",\"manzana\",\"mandarina\",4,5]\n",
    "print(f\"de la lista {lista} escojo el {choice(lista)}\")\n",
    "print(f\"de la lista {lista} escojo estos 3 {sample(lista,3)}\")\n"
   ]
  },
  {
   "cell_type": "markdown",
   "metadata": {},
   "source": [
    "### Módulo platform\n",
    "\n",
    "Obtiene información del entorno (hardware/so/software) de ejecución de un programa en Python:"
   ]
  },
  {
   "cell_type": "code",
   "execution_count": null,
   "metadata": {},
   "outputs": [],
   "source": [
    "import platform as p\n",
    "print(f\"La info de la plataforma de ejecución es: {p.platform()}\")\n",
    "print(f\"Familia Procesador: {p.machine()}\")\n",
    "print(f\"Sistema Operativo: {p.system()}\")\n",
    "print(f\"Version de Python: {p.python_version()}\")"
   ]
  },
  {
   "cell_type": "markdown",
   "metadata": {},
   "source": [
    "# Apropiación\n",
    "\n",
    "Cree un módulo llamado matematicas.py con las funciones básicas suma, resta, multiplicacion y division.  Todas estas funciones reciben dos números y retornan el respectivo resultado.\n",
    "\n",
    "Cree un programa en python que haga uso de cada una de las funciones que se encuentran en el módulo matematicas"
   ]
  },
  {
   "cell_type": "markdown",
   "metadata": {},
   "source": []
  }
 ],
 "metadata": {
  "kernelspec": {
   "display_name": "Python 3",
   "language": "python",
   "name": "python3"
  },
  "language_info": {
   "codemirror_mode": {
    "name": "ipython",
    "version": 3
   },
   "file_extension": ".py",
   "mimetype": "text/x-python",
   "name": "python",
   "nbconvert_exporter": "python",
   "pygments_lexer": "ipython3",
   "version": "3.13.0"
  }
 },
 "nbformat": 4,
 "nbformat_minor": 2
}
