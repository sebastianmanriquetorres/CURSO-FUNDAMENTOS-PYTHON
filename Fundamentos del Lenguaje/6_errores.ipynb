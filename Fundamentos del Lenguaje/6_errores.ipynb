{
 "cells": [
  {
   "cell_type": "markdown",
   "metadata": {},
   "source": [
    "![M I S I Ó N.png](data:image/png;base64,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)"
   ]
  },
  {
   "cell_type": "markdown",
   "metadata": {},
   "source": [
    "# Tipos de errores"
   ]
  },
  {
   "cell_type": "markdown",
   "metadata": {},
   "source": [
    "*   Sintaxis\n",
    "\n",
    "\n",
    "```\n",
    "print (\"Hola mundo)\n",
    "pritn (\"Hola mundo\")\n",
    "```\n",
    "\n",
    "\n",
    "*   Lógica\n",
    "\n",
    "\n",
    "```\n",
    "if edad > 18:\n",
    "    print(\"mayor de edad\")\n",
    "else:\n",
    "    print(\"menor de edad\")\n",
    "```\n",
    "\n",
    "\n",
    "*   En tiempo de ejecución\n",
    "\n",
    "\n",
    "```\n",
    "def division (x, y):\n",
    "   return x/y\n",
    "\n",
    "print(division(2,0))\n",
    "```\n",
    "\n"
   ]
  },
  {
   "cell_type": "code",
   "execution_count": null,
   "metadata": {},
   "outputs": [],
   "source": [
    "def division (x, y):\n",
    "  return x/y\n",
    "\n",
    "x= int(input(\"Ingrese x:\"))\n",
    "y= int(input(\"Ingrese y:\"))\n",
    "print(division(x,y))"
   ]
  },
  {
   "cell_type": "markdown",
   "metadata": {},
   "source": [
    "La gestión de excepciones se da para manejar errores ocurridos en tiempo de ejecución.\n",
    "\n",
    "##Sintaxis\n",
    "\n",
    "\n",
    "```\n",
    "try:\n",
    "  codigo_vigilado\n",
    "except:\n",
    "  lo_que_se_hace_en_caso\n",
    "  de_error_en_el_codigo_vigilado\n",
    "```"
   ]
  },
  {
   "cell_type": "markdown",
   "metadata": {},
   "source": [
    "## Excepciones específicas\n",
    "\n",
    "Algunos códigos vigilados en el bloque **try** pueden generar diferentes tipos de excepciones.  Si se tratan con un solo **except** general, el mensaje será el mismo.  Es posible que queramos un mensaje diferente para cada tipo de excepción ocurrida...\n",
    "\n",
    "\n",
    "\n",
    "```\n",
    "try:\n",
    "    codigo_vigilado\n",
    "except TipoError1:\n",
    "    codigo_que_se_ejecuta\n",
    "    cuando_ocurre_error1\n",
    "except TipoError2:\n",
    "    codigo_que_se_ejecuta\n",
    "    cuando_ocurre_error2\n",
    "```"
   ]
  },
  {
   "cell_type": "markdown",
   "metadata": {},
   "source": [
    "A continuación ejecuta el siguiente código ingresando como dividendo el valor de cero (0).  Toma nota del tipo de error.\n",
    "Luego vuelve a ejecutar el código e ingresa una letra como valor del divisor y toma de nuevo nota del tipo de error."
   ]
  },
  {
   "cell_type": "code",
   "execution_count": 5,
   "metadata": {},
   "outputs": [
    {
     "ename": "ZeroDivisionError",
     "evalue": "division by zero",
     "output_type": "error",
     "traceback": [
      "\u001b[31m---------------------------------------------------------------------------\u001b[39m",
      "\u001b[31mZeroDivisionError\u001b[39m                         Traceback (most recent call last)",
      "\u001b[36mCell\u001b[39m\u001b[36m \u001b[39m\u001b[32mIn[5]\u001b[39m\u001b[32m, line 6\u001b[39m\n\u001b[32m      4\u001b[39m divisor = \u001b[38;5;28mint\u001b[39m(\u001b[38;5;28minput\u001b[39m(\u001b[33m\"\u001b[39m\u001b[33mingrese divisor:\u001b[39m\u001b[33m\"\u001b[39m))\n\u001b[32m      5\u001b[39m dividendo = \u001b[38;5;28mint\u001b[39m(\u001b[38;5;28minput\u001b[39m(\u001b[33m\"\u001b[39m\u001b[33mingrese dividendo:\u001b[39m\u001b[33m\"\u001b[39m))\n\u001b[32m----> \u001b[39m\u001b[32m6\u001b[39m \u001b[38;5;28mprint\u001b[39m(\u001b[43mdivision\u001b[49m\u001b[43m(\u001b[49m\u001b[43mdivisor\u001b[49m\u001b[43m,\u001b[49m\u001b[43mdividendo\u001b[49m\u001b[43m)\u001b[49m)\n",
      "\u001b[36mCell\u001b[39m\u001b[36m \u001b[39m\u001b[32mIn[5]\u001b[39m\u001b[32m, line 2\u001b[39m, in \u001b[36mdivision\u001b[39m\u001b[34m(x, y)\u001b[39m\n\u001b[32m      1\u001b[39m \u001b[38;5;28;01mdef\u001b[39;00m\u001b[38;5;250m \u001b[39m\u001b[34mdivision\u001b[39m (x, y):\n\u001b[32m----> \u001b[39m\u001b[32m2\u001b[39m     \u001b[38;5;28;01mreturn\u001b[39;00m \u001b[43mx\u001b[49m\u001b[43m/\u001b[49m\u001b[43my\u001b[49m\n",
      "\u001b[31mZeroDivisionError\u001b[39m: division by zero"
     ]
    }
   ],
   "source": [
    "def division (x, y):\n",
    "    return x/y\n",
    "\n",
    "divisor = int(input(\"ingrese divisor:\"))\n",
    "dividendo = int(input(\"ingrese dividendo:\"))\n",
    "print(division(divisor,dividendo))"
   ]
  },
  {
   "cell_type": "markdown",
   "metadata": {},
   "source": [
    "Como puedes ver, en el primer caso (cero como divisor) el tipo error es **ZeroDivisionError** y en el segundo caso (ingreso de una letra) el error es de tipo **ValueError** con estos dos tipos de errores claros, podemos hacer una mejor gestión de excepciones en nuestro código.  Veamos, ejecuta de nuevo el siguiente código con los valores que producían error..."
   ]
  },
  {
   "cell_type": "code",
   "execution_count": 1,
   "metadata": {},
   "outputs": [
    {
     "name": "stdout",
     "output_type": "stream",
     "text": [
      "NO DIVIDIRAS POR 0, NO SE PUEDE DIVIDR\n"
     ]
    }
   ],
   "source": [
    "def  division(x,y):\n",
    "    return x/y\n",
    "\n",
    "try:\n",
    "\n",
    "    divisor = int(input(\"INgrese el divisor\"))\n",
    "    dividendo = int(input(\"INgrese dividendo: \"))\n",
    "    print(division(divisor, dividendo))\n",
    "\n",
    "except:\n",
    "    print(\"NO DIVIDIRAS POR 0, NO SE PUEDE DIVIDR\")"
   ]
  },
  {
   "cell_type": "markdown",
   "metadata": {},
   "source": [
    "## Excepciones específicas\n",
    "\n",
    "Algunos códigos vigilados en el bloque **try** pueden generar diferentes tipos de excepciones.  Si se tratan con un solo **except** general, el mensaje será el mismo.  Es posible que queramos un mensaje diferente para cada tipo de excepción ocurrida...\n",
    "\n",
    "\n",
    "\n",
    "```\n",
    "try:\n",
    "    codigo_vigilado\n",
    "except TipoError1:\n",
    "    codigo_que_se_ejecuta\n",
    "    cuando_ocurre_error1\n",
    "except TipoError2:\n",
    "    codigo_que_se_ejecuta\n",
    "    cuando_ocurre_error2\n",
    "```"
   ]
  },
  {
   "cell_type": "code",
   "execution_count": 10,
   "metadata": {},
   "outputs": [
    {
     "ename": "ZeroDivisionError",
     "evalue": "division by zero",
     "output_type": "error",
     "traceback": [
      "\u001b[31m---------------------------------------------------------------------------\u001b[39m",
      "\u001b[31mZeroDivisionError\u001b[39m                         Traceback (most recent call last)",
      "\u001b[36mCell\u001b[39m\u001b[36m \u001b[39m\u001b[32mIn[10]\u001b[39m\u001b[32m, line 6\u001b[39m\n\u001b[32m      4\u001b[39m divisor = \u001b[38;5;28mint\u001b[39m(\u001b[38;5;28minput\u001b[39m(\u001b[33m\"\u001b[39m\u001b[33mEnter the divisor: \u001b[39m\u001b[33m\"\u001b[39m))\n\u001b[32m      5\u001b[39m dividendo = \u001b[38;5;28mint\u001b[39m(\u001b[38;5;28minput\u001b[39m(\u001b[33m\"\u001b[39m\u001b[33mEnter the dividendo: \u001b[39m\u001b[33m\"\u001b[39m))\n\u001b[32m----> \u001b[39m\u001b[32m6\u001b[39m \u001b[38;5;28mprint\u001b[39m(\u001b[43mdivision\u001b[49m\u001b[43m(\u001b[49m\u001b[43mdivisor\u001b[49m\u001b[43m,\u001b[49m\u001b[43m \u001b[49m\u001b[43mdividendo\u001b[49m\u001b[43m)\u001b[49m)\n",
      "\u001b[36mCell\u001b[39m\u001b[36m \u001b[39m\u001b[32mIn[10]\u001b[39m\u001b[32m, line 2\u001b[39m, in \u001b[36mdivision\u001b[39m\u001b[34m(x, y)\u001b[39m\n\u001b[32m      1\u001b[39m \u001b[38;5;28;01mdef\u001b[39;00m\u001b[38;5;250m \u001b[39m\u001b[34mdivision\u001b[39m(x,y):\n\u001b[32m----> \u001b[39m\u001b[32m2\u001b[39m     \u001b[38;5;28;01mreturn\u001b[39;00m \u001b[43mx\u001b[49m\u001b[43m/\u001b[49m\u001b[43my\u001b[49m\n",
      "\u001b[31mZeroDivisionError\u001b[39m: division by zero"
     ]
    }
   ],
   "source": [
    "def division(x,y):\n",
    "    return x/y\n",
    "\n",
    "divisor = int(input(\"Enter the divisor: \"))\n",
    "dividendo = int(input(\"Enter the dividendo: \"))\n",
    "print(division(divisor, dividendo))"
   ]
  },
  {
   "cell_type": "code",
   "execution_count": 19,
   "metadata": {},
   "outputs": [
    {
     "name": "stdout",
     "output_type": "stream",
     "text": [
      "NUmero INgresado no validp\n"
     ]
    }
   ],
   "source": [
    "def division(x,y):\n",
    "    return x/y\n",
    "\n",
    "try:\n",
    "    divisor = int(input(\"Enter the divisor: \"))\n",
    "    dividendo = int(input(\"Enter the dividendo: \")) \n",
    "    print(division(divisor, dividendo))\n",
    "\n",
    "\n",
    "except  ZeroDivisionError:\n",
    "    print(\"No se puede dividir entre cero\")\n",
    "\n",
    "\n",
    "except  ValueError:\n",
    "    print(\"NUmero INgresado no validp\")\n",
    "\n",
    "\n",
    "except:\n",
    "    print(\"Error al dividir\")\n",
    "    \n"
   ]
  },
  {
   "cell_type": "code",
   "execution_count": 1,
   "metadata": {},
   "outputs": [
    {
     "name": "stdout",
     "output_type": "stream",
     "text": [
      "Error: Division by zero is not allowed.\n",
      "NUmero ingresado no valido\n",
      "0.5\n"
     ]
    }
   ],
   "source": [
    "def division(x,y):\n",
    "    return x/y\n",
    "\n",
    "while True:\n",
    "    try:\n",
    "        divisor = int(input(\"Enter the divisor: \"))\n",
    "        dividendo = int(input(\"Enter the dividendo: \")) \n",
    "        print(division(divisor, dividendo))\n",
    "        break\n",
    "    except ZeroDivisionError:\n",
    "        print(\"Error: Division by zero is not allowed.\")\n",
    "    except ValueError:\n",
    "        print(\"NUmero ingresado no valido\")\n",
    "    except:\n",
    "        print(\"ERror desconocido \")\n",
    "    \n",
    "\n",
    "\n",
    "\n",
    "\n"
   ]
  },
  {
   "cell_type": "markdown",
   "metadata": {},
   "source": [
    "## Bloque **else** y **finally**\n",
    "\n",
    "La gestión de excepciones en python admite otros dos bloques opcionales\n",
    "\n",
    "El bloque *else* al final de los bloques except se utiliza como el bloque que se ejecuta si ninguna except se ejecutó.\n",
    "\n",
    "El bloque *finally* se ejecuta siempre que se defina.  Este es el último paso que se ejecuta cuando hay gestión de excepciones y su ejecución siempre se da hayan o no excepciones en el programa.\n",
    "\n",
    "\n",
    "```\n",
    "try:\n",
    "    codigo_vigilado\n",
    "except TipoError1:\n",
    "    codigo_que_se_ejecuta\n",
    "    cuando_ocurre_error1\n",
    "except TipoError2:\n",
    "    codigo_que_se_ejecuta\n",
    "    cuando_ocurre_error2\n",
    "except:\n",
    "    codigo_que_se_ejecuta\n",
    "    cuando_ocurre_cualquier\n",
    "    otro_tipo_de_excepcion\n",
    "else:\n",
    "    codigo_que_se_ejecuta\n",
    "    si_ninguna_excepcion_ocurre\n",
    "finally:\n",
    "    codigo_que_siempre_se_ejecuta\n",
    "    al_final_de_la_gestion_de\n",
    "    excepciones\n",
    "\n",
    "```"
   ]
  },
  {
   "cell_type": "code",
   "execution_count": 2,
   "metadata": {},
   "outputs": [
    {
     "name": "stdout",
     "output_type": "stream",
     "text": [
      "2.0\n",
      "La division fue exitosa\n",
      "Fin del programa gracias por utilziarla funcion dividir\n"
     ]
    }
   ],
   "source": [
    "def division(x,y):\n",
    "    return x/y\n",
    "\n",
    "try:\n",
    "    divisor = int(input(\"Enter the divisor: \"))\n",
    "    dividendo = int(input(\"Enter the dividendo: \")) \n",
    "    print(division(divisor, dividendo))\n",
    "\n",
    "\n",
    "except  ZeroDivisionError:\n",
    "    print(\"No se puede dividir entre cero\")\n",
    "\n",
    "\n",
    "except  ValueError:\n",
    "    print(\"NUmero INgresado no validp\")\n",
    "\n",
    "\n",
    "except:\n",
    "    print(\"Error al dividir\")\n",
    "\n",
    "else:\n",
    "    print(\"La division fue exitosa\")\n",
    "\n",
    "finally:\n",
    "    print(\"Fin del programa gracias por utilziarla funcion dividir\")"
   ]
  },
  {
   "cell_type": "markdown",
   "metadata": {},
   "source": []
  },
  {
   "cell_type": "markdown",
   "metadata": {},
   "source": [
    "## Capturando el tipo de excepción\n",
    "\n",
    "Cuando no estamos seguros sobre el tipo de excepción que puede arrojar un código, podemos capturar la excepción en una variable y a partir de ella acceder a su tipo.  Miremos:"
   ]
  },
  {
   "cell_type": "code",
   "execution_count": 4,
   "metadata": {},
   "outputs": [
    {
     "name": "stdout",
     "output_type": "stream",
     "text": [
      "Error:  division by zero\n"
     ]
    }
   ],
   "source": [
    "def division(x,y):\n",
    "    return x/y\n",
    "\n",
    "try:\n",
    "    divisor = int(input(\"Enter the divisor: \"))\n",
    "    dividendo = int(input(\"Enter the dividendo: \")) \n",
    "    print(division(divisor, dividendo))\n",
    "\n",
    "except Exception  as pepito:\n",
    "    print(\"Error: \", pepito)"
   ]
  },
  {
   "cell_type": "markdown",
   "metadata": {},
   "source": [
    "## Lanzamiento manual de excepciones\n",
    "\n",
    "Con la instrucción **raise** podemos lanzar manualmente una excepción en nuestro código.  Veamos, ingresa una edad negativa en el siguiente programa"
   ]
  },
  {
   "cell_type": "code",
   "execution_count": 10,
   "metadata": {},
   "outputs": [
    {
     "name": "stdout",
     "output_type": "stream",
     "text": [
      "Error:  invalid literal for int() with base 10: 'eerererererr'\n"
     ]
    }
   ],
   "source": [
    "try:\n",
    "    edad= int(input(\"Ingrese su edad: \"))\n",
    "    if edad < 0:\n",
    "        raise ValueError(\"La edad no puede ser negativa\")\n",
    "\n",
    "except Exception as pepito:\n",
    "    print(\"Error: \", pepito) "
   ]
  },
  {
   "cell_type": "markdown",
   "metadata": {},
   "source": [
    "## Apropiación"
   ]
  },
  {
   "cell_type": "markdown",
   "metadata": {},
   "source": [
    "1. Finaliza el siguiente código con una gestión completa de sus excepciones.  El objetivo del programa es solicitar al usuario una posición de una lista y devolver el valor que se encuentra en dicha posición.  Prueba el programa enviando una posición inexistente y enviando una letra como posición.  El programa sólo terminará cuando se ejecute correctamente"
   ]
  },
  {
   "cell_type": "code",
   "execution_count": null,
   "metadata": {},
   "outputs": [],
   "source": [
    "while True:\n",
    "    try:\n",
    "        lista = [3,5,6,8]\n",
    "        pos = int(input(\"ingrese la posición del elemento que desea obtener:\"))\n",
    "        print(f\"El valor en la posicion {pos} es {lista[pos]}\")\n",
    "        break\n",
    "    except IndexError:\n",
    "      print (\"El indice está fuera del rango\")\n",
    "    except ValueError:\n",
    "      print (\"Solo se permiten numeros enteros\")"
   ]
  },
  {
   "cell_type": "markdown",
   "metadata": {},
   "source": [
    "2. Realiza una función llamada agregar_una_vez(lista, el) que reciba una lista y un elemento. La función debe añadir el elemento al final de la lista con la condición de no repetir ningún elemento. Además si este elemento ya se encuentra en la lista se debe invocar un error de tipo ValueError que debes capturar y mostrar este mensaje en su lugar:\n",
    "\n",
    "\n",
    "```\n",
    "Error: Imposible añadir elementos duplicados => [elemento].\n",
    "```\n",
    "Mostrar el siguiente mensaje siempre que se ejecute independientemente de que la ejecución haya sido exitosa o no\n",
    "\n",
    "\n",
    "```\n",
    "Gracias por usar este programa\n",
    "```"
   ]
  },
  {
   "cell_type": "markdown",
   "metadata": {},
   "source": []
  }
 ],
 "metadata": {
  "kernelspec": {
   "display_name": "Python 3",
   "language": "python",
   "name": "python3"
  },
  "language_info": {
   "codemirror_mode": {
    "name": "ipython",
    "version": 3
   },
   "file_extension": ".py",
   "mimetype": "text/x-python",
   "name": "python",
   "nbconvert_exporter": "python",
   "pygments_lexer": "ipython3",
   "version": "3.13.0"
  }
 },
 "nbformat": 4,
 "nbformat_minor": 2
}
